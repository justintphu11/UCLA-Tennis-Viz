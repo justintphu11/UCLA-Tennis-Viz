{
 "cells": [
  {
   "cell_type": "code",
   "execution_count": 26,
   "metadata": {},
   "outputs": [
    {
     "name": "stderr",
     "output_type": "stream",
     "text": [
      "/var/folders/gc/y_rdwxcs2pb0n4dz4z33dcth0000gn/T/ipykernel_6417/1267620436.py:18: DeprecationWarning: DataFrameGroupBy.apply operated on the grouping columns. This behavior is deprecated, and in a future version of pandas the grouping columns will be excluded from the operation. Either pass `include_groups=False` to exclude the groupings or explicitly select the grouping columns after groupby to silence this warning.\n",
      "  distribution = returns_ucla.groupby('depth').apply(\n"
     ]
    }
   ],
   "source": [
    "import pandas as pd\n",
    "import numpy as np\n",
    "\n",
    "# Load the data\n",
    "def return_cont(player, path):\n",
    "    # deuce_scores = [\"0-0\", \"30-0\", \"0-30\", \"15-15\", \"40-40\"]\n",
    "    # & (events['pointScore'].isin(deuce_scores))\n",
    "    events = pd.read_csv(path)\n",
    "    events['pointWonBy'] = events.groupby('pointNumber')['pointWonBy'].bfill()\n",
    "    returns_ucla = events[(events['shotHitBy'] == player) & (events['shotInRally'] == 2)][['pointStartTime', 'shotHitBy', 'shotContactX', 'shotContactY', 'pointWonBy', 'isWinner', 'shotFhBh']].dropna(subset=['pointWonBy', 'shotContactX', 'shotContactY']).copy()\n",
    "    returns_ucla['shotContactX'] = returns_ucla.apply(lambda row: -row['shotContactX'] if row['shotContactY'] > 0 else row['shotContactX'], axis=1)\n",
    "    returns_ucla['shotContactY'] = returns_ucla['shotContactY'].apply(lambda y: -y if y > 0 else y)\n",
    "    returns_ucla['depth'] = returns_ucla['shotContactY'].apply(\n",
    "        lambda y: 'short' if y >= -455 else 'mid' if -455 > y > -490 else 'deep'\n",
    "    )\n",
    "\n",
    "    # Calculate count + win pct.\n",
    "    distribution = returns_ucla.groupby('depth').apply(\n",
    "        lambda df: pd.Series({\n",
    "            'freq': len(df),\n",
    "            'win_percentage': int((df['pointWonBy'] == df['shotHitBy']).mean() * 100)\n",
    "        })\n",
    "    ).reset_index()\n",
    "\n",
    "    max_win_percentage = distribution['win_percentage'].max()\n",
    "    min_win_percentage = distribution['win_percentage'].min()\n",
    "\n",
    "    distribution['maxMin'] = distribution['win_percentage'].apply(\n",
    "        lambda x: 'max' if x == max_win_percentage else 'min' if x == min_win_percentage else 'no'\n",
    "    )\n",
    "\n",
    "    distribution['win_percentage'] = distribution['win_percentage'].astype(str) + '%'\n",
    "\n",
    "    y_mapping = {\n",
    "        'short': {'y': -420},\n",
    "        'mid': {'y': -475},\n",
    "        'deep': {'y': -515}\n",
    "    }\n",
    "\n",
    "    distribution['y'] = distribution['depth'].map(lambda d: y_mapping[d]['y'])\n",
    "\n",
    "    # Export the data\n",
    "    returns_ucla_json = returns_ucla.to_json(orient='records')\n",
    "    distribution_json = distribution.to_json(orient='records')\n",
    "\n",
    "    with open('returns_ucla.json', 'w') as f:\n",
    "        f.write(returns_ucla_json)\n",
    "\n",
    "    with open('distribution.json', 'w') as f:\n",
    "        f.write(distribution_json)\n",
    "\n",
    "player = \"Anne Lutkemeyer\"\n",
    "path = \"../Match CSVs/Shot_Visuals_AnneLutkemeyer_CatherineGagnon.csv\"\n",
    "return_cont(player, path)"
   ]
  }
 ],
 "metadata": {
  "kernelspec": {
   "display_name": "Python 3",
   "language": "python",
   "name": "python3"
  },
  "language_info": {
   "codemirror_mode": {
    "name": "ipython",
    "version": 3
   },
   "file_extension": ".py",
   "mimetype": "text/x-python",
   "name": "python",
   "nbconvert_exporter": "python",
   "pygments_lexer": "ipython3",
   "version": "3.11.4"
  },
  "orig_nbformat": 4
 },
 "nbformat": 4,
 "nbformat_minor": 2
}
