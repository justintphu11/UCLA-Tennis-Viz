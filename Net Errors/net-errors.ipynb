{
 "cells": [
  {
   "cell_type": "code",
   "execution_count": 9,
   "metadata": {},
   "outputs": [],
   "source": [
    "import pandas as pd\n",
    "import numpy as np\n",
    "\n",
    "def gen_net_errors(player, path):\n",
    "    # Load the data\n",
    "    events = pd.read_csv(path)\n",
    "    events['pointWonBy'] = events.groupby('pointNumber')['pointWonBy'].bfill()\n",
    "\n",
    "    # Filter for the player's returns and shots in rally\n",
    "    net_errors = events[(events['shotHitBy'] == player) & (events['isErrorNet'] == 1.0)][['shotHitBy','shotContactX', 'shotContactY', 'shotLocationX', 'shotLocationY', 'pointWonBy', 'shotFhBh']].dropna(subset=['pointWonBy']).copy()\n",
    "\n",
    "    # Adjust shotLocationY and shotLocationX and flip shotContactX, shotContactY when shotLocation > 0\n",
    "    net_errors = net_errors.dropna()\n",
    "    net_errors['shotLocationX'] = net_errors.apply(lambda row: -row['shotLocationX'] if row['shotContactY'] > 0 else row['shotLocationX'], axis=1)\n",
    "    net_errors['shotLocationY'] = net_errors.apply(lambda row: -row['shotLocationY'] if row['shotContactY'] > 0 else row['shotLocationY'], axis=1)\n",
    "    net_errors['shotContactX'] = net_errors.apply(lambda row: -row['shotContactX'] if row['shotContactY'] > 0 else row['shotContactX'], axis=1)\n",
    "    net_errors['shotContactY'] = net_errors.apply(lambda row: -row['shotContactY'] if row['shotContactY'] > 0 else row['shotContactY'], axis=1)\n",
    "\n",
    "    # Export the data as JSON\n",
    "    net_errors_json = net_errors.to_json(orient='records')\n",
    "\n",
    "    with open('net_errors.json', 'w') as f:\n",
    "        f.write(net_errors_json)\n",
    "\n",
    "\n",
    "player = \"Anne Lutkemeyer\"\n",
    "path = \"../Match CSVs/Shot_Visuals_AnneLutkemeyer_CatherineGagnon.csv\"\n",
    "gen_net_errors(player, path)\n"
   ]
  }
 ],
 "metadata": {
  "kernelspec": {
   "display_name": "Python 3",
   "language": "python",
   "name": "python3"
  },
  "language_info": {
   "codemirror_mode": {
    "name": "ipython",
    "version": 3
   },
   "file_extension": ".py",
   "mimetype": "text/x-python",
   "name": "python",
   "nbconvert_exporter": "python",
   "pygments_lexer": "ipython3",
   "version": "3.11.4"
  },
  "orig_nbformat": 4
 },
 "nbformat": 4,
 "nbformat_minor": 2
}
