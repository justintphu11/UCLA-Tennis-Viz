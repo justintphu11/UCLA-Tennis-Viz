{
 "cells": [
  {
   "cell_type": "code",
   "execution_count": 15,
   "metadata": {},
   "outputs": [
    {
     "name": "stdout",
     "output_type": "stream",
     "text": [
      "475         Spencer Johnson\n",
      "714     Oscar Pinto Sansano\n",
      "765         Spencer Johnson\n",
      "815         Spencer Johnson\n",
      "892         Spencer Johnson\n",
      "967         Spencer Johnson\n",
      "1058        Spencer Johnson\n",
      "1112        Spencer Johnson\n",
      "1275        Spencer Johnson\n",
      "Name: pointWonBy, dtype: object\n"
     ]
    }
   ],
   "source": [
    "import pandas as pd\n",
    "import numpy as np\n",
    "import warnings\n",
    "warnings.filterwarnings('ignore')\n",
    "\n",
    "def gen_serve_dist_map(file_path, player):\n",
    "    events = pd.read_csv(file_path)\n",
    "    events['pointWonBy'] = events.groupby('pointNumber')['pointWonBy'].bfill()\n",
    "    \n",
    "    filtered_events = events[\n",
    "        (events['shotInRally'] == 1) &\n",
    "        (events['serverName'] == player) &\n",
    "        ((events['firstServeIn'] == 1.0) | (events['secondServeIn'] == 1.0))\n",
    "    ]\n",
    "    \n",
    "    valid_placements = ['Wide', 'T', 'Body']\n",
    "    filtered_events = filtered_events[filtered_events['serveInPlacement'].isin(valid_placements)]\n",
    "    filtered_events['Zone'] =  filtered_events['side'] + \" \" + filtered_events['serveInPlacement']\n",
    "\n",
    "    serve_counts = filtered_events.groupby('Zone').size()\n",
    "    \n",
    "    won_counts = filtered_events[filtered_events['pointWonBy'] == player].groupby('Zone').size()\n",
    "    won_counts = won_counts.reindex(serve_counts.index, fill_value=0)\n",
    "    \n",
    "    serve_dist = pd.DataFrame({\n",
    "        \"Zone\": serve_counts.index,\n",
    "        \"Win Proportion\": won_counts.astype(str) + '/' + serve_counts.astype(str)\n",
    "    }).reset_index(drop=True)\n",
    "\n",
    "    serve_dist['Server'] = [player, \"\", \"\", \"\", \"\", \"\"]\n",
    "    \n",
    "    serve_dist_map_json = serve_dist.to_json(orient='records')\n",
    "    with open('serve_dist_map.json', 'w') as f:\n",
    "        f.write(serve_dist_map_json)\n",
    "\n",
    "    print(filtered_events.loc[filtered_events['Zone'] == 'Deuce Wide', 'pointWonBy'])\n",
    "\n",
    "\n",
    "player = \"Spencer Johnson\"\n",
    "path = \"../../Match CSVs/Shot_Visuals_SpencerJohnson_OscarPintoSansano.csv\"\n",
    "gen_serve_dist_map(path, player)"
   ]
  }
 ],
 "metadata": {
  "kernelspec": {
   "display_name": "Python 3",
   "language": "python",
   "name": "python3"
  },
  "language_info": {
   "codemirror_mode": {
    "name": "ipython",
    "version": 3
   },
   "file_extension": ".py",
   "mimetype": "text/x-python",
   "name": "python",
   "nbconvert_exporter": "python",
   "pygments_lexer": "ipython3",
   "version": "3.11.4"
  },
  "orig_nbformat": 4
 },
 "nbformat": 4,
 "nbformat_minor": 2
}
