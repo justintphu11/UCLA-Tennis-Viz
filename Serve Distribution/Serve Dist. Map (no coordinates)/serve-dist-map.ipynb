{
 "cells": [
  {
   "cell_type": "code",
   "execution_count": 2,
   "metadata": {},
   "outputs": [
    {
     "name": "stderr",
     "output_type": "stream",
     "text": [
      "/var/folders/gc/y_rdwxcs2pb0n4dz4z33dcth0000gn/T/ipykernel_12426/3658812643.py:1: DeprecationWarning: \n",
      "Pyarrow will become a required dependency of pandas in the next major release of pandas (pandas 3.0),\n",
      "(to allow more performant data types, such as the Arrow string type, and better interoperability with other libraries)\n",
      "but was not found to be installed on your system.\n",
      "If this would cause problems for you,\n",
      "please provide us feedback at https://github.com/pandas-dev/pandas/issues/54466\n",
      "        \n",
      "  import pandas as pd\n"
     ]
    }
   ],
   "source": [
    "import pandas as pd\n",
    "import numpy as np\n",
    "import warnings\n",
    "warnings.filterwarnings('ignore')\n",
    "\n",
    "def gen_serve_dist_map(file_path, player1):\n",
    "    events = pd.read_csv(file_path)\n",
    "    events['pointWonBy'] = events.groupby('pointNumber')['pointWonBy'].bfill()\n",
    "    \n",
    "    filtered_events = events[\n",
    "        (events['shotInRally'] == 1) &\n",
    "        (events['serverName'] == player1) &\n",
    "        ((events['firstServeIn'] == 1.0) | (events['secondServeIn'] == 1.0))\n",
    "    ]\n",
    "    \n",
    "    filtered_events['Zone'] =  filtered_events['side'] + \" \" + filtered_events['serveInPlacement']\n",
    "\n",
    "    serve_counts = filtered_events.groupby('Zone').size()\n",
    "    \n",
    "    won_counts = filtered_events[filtered_events['pointWonBy'] == player1].groupby('Zone').size()\n",
    "    won_counts = won_counts.reindex(serve_counts.index, fill_value=0)\n",
    "    \n",
    "    serve_dist = pd.DataFrame({\n",
    "        \"Zone\": serve_counts.index,\n",
    "        \"Win Proportion\": won_counts.astype(str) + '/' + serve_counts.astype(str)\n",
    "    }).reset_index(drop=True)\n",
    "\n",
    "    serve_dist['Server'] = [player1, \"\", \"\", \"\", \"\", \"\"]\n",
    "    \n",
    "    serve_dist_map_json = serve_dist.to_json(orient='records')\n",
    "    with open('serve_dist_map.json', 'w') as f:\n",
    "        f.write(serve_dist_map_json)"
   ]
  },
  {
   "cell_type": "code",
   "execution_count": 3,
   "metadata": {},
   "outputs": [],
   "source": [
    "file_path = \"../../Shot_Visuals_EliseWagle_MotkaKomac.csv\"\n",
    "player1 = \"Elise Wagle\"\n",
    "gen_serve_dist_map(file_path, player1)\n"
   ]
  }
 ],
 "metadata": {
  "kernelspec": {
   "display_name": "Python 3",
   "language": "python",
   "name": "python3"
  },
  "language_info": {
   "codemirror_mode": {
    "name": "ipython",
    "version": 3
   },
   "file_extension": ".py",
   "mimetype": "text/x-python",
   "name": "python",
   "nbconvert_exporter": "python",
   "pygments_lexer": "ipython3",
   "version": "3.11.4"
  },
  "orig_nbformat": 4
 },
 "nbformat": 4,
 "nbformat_minor": 2
}
