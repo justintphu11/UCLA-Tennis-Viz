{
 "cells": [
  {
   "cell_type": "code",
   "execution_count": 5,
   "metadata": {},
   "outputs": [],
   "source": [
    "import pandas as pd\n",
    "import numpy as np\n",
    "\n",
    "def gen_winners(player, path):\n",
    "    # Load the data\n",
    "    events = pd.read_csv(path)\n",
    "    events['pointWonBy'] = events.groupby('pointNumber')['pointWonBy'].bfill()\n",
    "    events['isVolley'] = events['isVolley'].fillna(0)\n",
    "\n",
    "    # Filter for the player's returns and shots in rally\n",
    "    winners = events[(events['shotHitBy'] == player) & (events['isWinner'] == 1.0) & (events['pointWonBy'] == player)][['shotHitBy', 'pointStartTime', 'shotContactX', 'shotContactY', 'shotLocationX', 'shotLocationY', 'pointWonBy', 'isVolley', 'shotFhBh']].dropna(subset=['pointWonBy']).copy()\n",
    "\n",
    "    # Adjust shotLocationY and shotLocationX and flip shotContactX, shotContactY when shotLocation > 0\n",
    "    winners = winners.dropna()\n",
    "    winners['shotLocationX'] = winners.apply(lambda row: -row['shotLocationX'] if row['shotLocationY'] < 0 else row['shotLocationX'], axis=1)\n",
    "    winners['shotContactX'] = winners.apply(lambda row: -row['shotContactX'] if row['shotLocationY'] < 0 else row['shotContactX'], axis=1)\n",
    "    winners['shotContactY'] = winners.apply(lambda row: -row['shotContactY'] if row['shotLocationY'] < 0 else row['shotContactY'], axis=1)\n",
    "    winners['shotLocationY'] = winners.apply(lambda row: -row['shotLocationY'] if row['shotLocationY'] < 0 else row['shotLocationY'], axis=1)\n",
    "\n",
    "    # Export the data as JSON\n",
    "    winners_json = winners.to_json(orient='records')\n",
    "\n",
    "    with open('winners.json', 'w') as f:\n",
    "        f.write(winners_json)\n",
    "\n",
    "\n",
    "player = \"Anne Lutkemeyer\"\n",
    "path = \"../Match CSVs/Shot_Visuals_AnneLutkemeyer_CatherineGagnon.csv\"\n",
    "gen_winners(player, path)"
   ]
  }
 ],
 "metadata": {
  "kernelspec": {
   "display_name": "Python 3",
   "language": "python",
   "name": "python3"
  },
  "language_info": {
   "codemirror_mode": {
    "name": "ipython",
    "version": 3
   },
   "file_extension": ".py",
   "mimetype": "text/x-python",
   "name": "python",
   "nbconvert_exporter": "python",
   "pygments_lexer": "ipython3",
   "version": "3.11.4"
  },
  "orig_nbformat": 4
 },
 "nbformat": 4,
 "nbformat_minor": 2
}
