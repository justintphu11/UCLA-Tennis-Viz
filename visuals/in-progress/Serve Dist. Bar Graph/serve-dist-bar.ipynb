{
 "cells": [
  {
   "cell_type": "code",
   "execution_count": 12,
   "metadata": {},
   "outputs": [],
   "source": [
    "import pandas as pd\n",
    "import numpy as np\n",
    "import warnings\n",
    "warnings.filterwarnings('ignore')\n",
    "\n",
    "import pandas as pd\n",
    "import warnings\n",
    "\n",
    "warnings.filterwarnings('ignore')\n",
    "\n",
    "def gen_serve_dist_bar(path, player):\n",
    "    # Load the data\n",
    "    events = pd.read_csv(path)\n",
    "    events['pointWonBy'] = events.groupby('pointNumber')['pointWonBy'].bfill()\n",
    "    \n",
    "    # Filter the events to get only serves for player1\n",
    "    filtered_events = events[\n",
    "        (events['shotInRally'] == 1) &\n",
    "        (events['serverName'] == player) &\n",
    "        ((events['firstServeIn'] == 1.0) | (events['secondServeIn'] == 1.0))\n",
    "    ]\n",
    "    \n",
    "    valid_placements = ['Wide', 'T', 'Body']\n",
    "    filtered_events = filtered_events[filtered_events['serveInPlacement'].isin(valid_placements)]\n",
    "    filtered_events['Zone'] = filtered_events['side'] + \" \" + filtered_events['serveInPlacement']\n",
    "\n",
    "    serve_counts = filtered_events.groupby(['side', 'Zone']).size()\n",
    "    side_totals = serve_counts.groupby(level=0).sum()\n",
    "\n",
    "    zone_percentages = (serve_counts / side_totals) * 100\n",
    "    zone_percentages = zone_percentages.round().astype(int)\n",
    "    zone_percentages = zone_percentages.reset_index()\n",
    "\n",
    "    serve_dist = pd.DataFrame({\n",
    "        \"Zone\": zone_percentages['Zone'],\n",
    "        \"Percentage\": zone_percentages[0].astype(str) + '%'\n",
    "    })\n",
    "\n",
    "    serve_dist['Server'] = [player, \"\", \"\", \"\", \"\", \"\"]\n",
    "    \n",
    "    serve_dist_bar_json = serve_dist.to_json(orient='records')\n",
    "    with open('serve_dist_bar.json', 'w') as f:\n",
    "        f.write(serve_dist_bar_json)\n",
    "\n",
    "player = \"Spencer Johnson\"\n",
    "path = \"../../Match CSVs/Shot_Visuals_SpencerJohnson_OscarPintoSansano.csv\"\n",
    "gen_serve_dist_bar(path, player)"
   ]
  }
 ],
 "metadata": {
  "kernelspec": {
   "display_name": "Python 3",
   "language": "python",
   "name": "python3"
  },
  "language_info": {
   "codemirror_mode": {
    "name": "ipython",
    "version": 3
   },
   "file_extension": ".py",
   "mimetype": "text/x-python",
   "name": "python",
   "nbconvert_exporter": "python",
   "pygments_lexer": "ipython3",
   "version": "3.11.4"
  },
  "orig_nbformat": 4
 },
 "nbformat": 4,
 "nbformat_minor": 2
}
