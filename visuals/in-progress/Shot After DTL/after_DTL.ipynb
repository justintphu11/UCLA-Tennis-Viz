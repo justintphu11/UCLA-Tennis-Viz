{
 "cells": [
  {
   "cell_type": "code",
   "execution_count": 2,
   "metadata": {},
   "outputs": [],
   "source": [
    "import pandas as pd\n",
    "import numpy as np\n",
    "\n",
    "def shot_after_DTL(player, path, side):\n",
    "    # Load the data\n",
    "    events = pd.read_csv(path)\n",
    "    events['pointWonBy'] = events.groupby('pointNumber')['pointWonBy'].bfill()\n",
    "\n",
    "    # Filter for rows where the shot was a \"Forehand, Down the Line, Deuce\" shot in the same point\n",
    "    forehand_dtl_deuce = events[(events['shotFhBh'] == 'Forehand') & \n",
    "                                (events['shotDirection'] == 'Down the Line') & \n",
    "                                (events['side'] == side)]\n",
    "\n",
    "    # Initialize list for valid indices of the shots after \"Forehand, Down the Line, Deuce\"\n",
    "    target_indices = []\n",
    "    for idx in forehand_dtl_deuce.index:\n",
    "        # Ensure idx + 1 is within bounds and that the next shot belongs to the same point\n",
    "        if idx + 1 in events.index and events.loc[idx + 1, 'pointNumber'] == events.loc[idx, 'pointNumber']:\n",
    "            target_indices.append(idx + 1)\n",
    "    \n",
    "    # Filter `events` for the player's returns using valid target indices\n",
    "    returns_place = events.loc[target_indices]\n",
    "    returns_place = returns_place[returns_place['shotHitBy'] == player].copy()\n",
    "\n",
    "    # Adjust shotLocationY and shotLocationX\n",
    "    returns_place['shotLocationY'] = returns_place['shotLocationY'].apply(lambda y: -y if y > 0 else y)\n",
    "    returns_place['shotLocationX'] = returns_place.apply(lambda row: -row['shotLocationX'] if row['shotLocationY'] < 0 else row['shotLocationX'], axis=1)\n",
    "\n",
    "    # Export the data as JSON\n",
    "    returns_place_json = returns_place.to_json(orient='records')\n",
    "\n",
    "    with open('after_DTL.json', 'w') as f:\n",
    "        f.write(returns_place_json)\n",
    "    \n",
    "# Run function with given input\n",
    "player = \"Rudy Quan\"\n",
    "path = '../../Shot_Visuals_RudyQuan_AristotelisThanos.csv'\n",
    "side = \"Deuce\"\n",
    "shot_after_DTL(player, path, side)\n",
    "\n"
   ]
  }
 ],
 "metadata": {
  "kernelspec": {
   "display_name": "Python 3",
   "language": "python",
   "name": "python3"
  },
  "language_info": {
   "codemirror_mode": {
    "name": "ipython",
    "version": 3
   },
   "file_extension": ".py",
   "mimetype": "text/x-python",
   "name": "python",
   "nbconvert_exporter": "python",
   "pygments_lexer": "ipython3",
   "version": "3.11.4"
  },
  "orig_nbformat": 4
 },
 "nbformat": 4,
 "nbformat_minor": 2
}
